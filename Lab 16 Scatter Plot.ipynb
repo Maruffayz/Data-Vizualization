{
 "cells": [
  {
   "cell_type": "markdown",
   "metadata": {},
   "source": [
    "<p style=\"text-align:center\">\n",
    "    <a href=\"https://skills.network\" target=\"_blank\">\n",
    "    <img src=\"https://cf-courses-data.s3.us.cloud-object-storage.appdomain.cloud/assets/logos/SN_web_lightmode.png\" width=\"200\" alt=\"Skills Network Logo\"  />\n",
    "    </a>\n",
    "</p>\n"
   ]
  },
  {
   "cell_type": "markdown",
   "metadata": {},
   "source": [
    "# **Scatter Plot**\n"
   ]
  },
  {
   "cell_type": "markdown",
   "metadata": {},
   "source": [
    "Estimated time needed: **45** minutes\n"
   ]
  },
  {
   "cell_type": "markdown",
   "metadata": {},
   "source": [
    "## Overview\n",
    "\n",
    "In this lab, you will focus on creating and interpreting scatter plots to visualize relationships between variables and trends in the dataset. The provided dataset will be directly loaded into a pandas DataFrame, and various scatter plot-related visualizations will be created to explore developer trends, compensation, and preferences.\n",
    "\n"
   ]
  },
  {
   "cell_type": "markdown",
   "metadata": {},
   "source": [
    "## Objectives\n"
   ]
  },
  {
   "cell_type": "markdown",
   "metadata": {},
   "source": [
    "In this lab, you will:\n",
    "\n",
    "- Create and analyze scatter plots to examine relationships between variables.\n",
    "\n",
    "- Use scatter plots to identify trends and patterns in the dataset.\n",
    "\n",
    "- Focus on visualizations centered on scatter plots for better data-driven insights.\n"
   ]
  },
  {
   "cell_type": "markdown",
   "metadata": {},
   "source": [
    "## Setup: Working with the Database\n"
   ]
  },
  {
   "cell_type": "markdown",
   "metadata": {},
   "source": [
    "\n",
    "**Install and import the required libraries**\n"
   ]
  },
  {
   "cell_type": "code",
   "execution_count": 9,
   "metadata": {},
   "outputs": [
    {
     "name": "stdout",
     "output_type": "stream",
     "text": [
      "Requirement already satisfied: pandas in c:\\users\\klipm\\anaconda3\\lib\\site-packages (2.2.2)\n",
      "Requirement already satisfied: numpy>=1.26.0 in c:\\users\\klipm\\anaconda3\\lib\\site-packages (from pandas) (1.26.4)\n",
      "Requirement already satisfied: python-dateutil>=2.8.2 in c:\\users\\klipm\\anaconda3\\lib\\site-packages (from pandas) (2.9.0.post0)\n",
      "Requirement already satisfied: pytz>=2020.1 in c:\\users\\klipm\\anaconda3\\lib\\site-packages (from pandas) (2024.1)\n",
      "Requirement already satisfied: tzdata>=2022.7 in c:\\users\\klipm\\anaconda3\\lib\\site-packages (from pandas) (2023.3)\n",
      "Requirement already satisfied: six>=1.5 in c:\\users\\klipm\\anaconda3\\lib\\site-packages (from python-dateutil>=2.8.2->pandas) (1.16.0)\n",
      "Requirement already satisfied: matplotlib in c:\\users\\klipm\\anaconda3\\lib\\site-packages (3.9.2)\n",
      "Requirement already satisfied: contourpy>=1.0.1 in c:\\users\\klipm\\anaconda3\\lib\\site-packages (from matplotlib) (1.2.0)\n",
      "Requirement already satisfied: cycler>=0.10 in c:\\users\\klipm\\anaconda3\\lib\\site-packages (from matplotlib) (0.11.0)\n",
      "Requirement already satisfied: fonttools>=4.22.0 in c:\\users\\klipm\\anaconda3\\lib\\site-packages (from matplotlib) (4.51.0)\n",
      "Requirement already satisfied: kiwisolver>=1.3.1 in c:\\users\\klipm\\anaconda3\\lib\\site-packages (from matplotlib) (1.4.4)\n",
      "Requirement already satisfied: numpy>=1.23 in c:\\users\\klipm\\anaconda3\\lib\\site-packages (from matplotlib) (1.26.4)\n",
      "Requirement already satisfied: packaging>=20.0 in c:\\users\\klipm\\anaconda3\\lib\\site-packages (from matplotlib) (24.1)\n",
      "Requirement already satisfied: pillow>=8 in c:\\users\\klipm\\anaconda3\\lib\\site-packages (from matplotlib) (10.4.0)\n",
      "Requirement already satisfied: pyparsing>=2.3.1 in c:\\users\\klipm\\anaconda3\\lib\\site-packages (from matplotlib) (3.1.2)\n",
      "Requirement already satisfied: python-dateutil>=2.7 in c:\\users\\klipm\\anaconda3\\lib\\site-packages (from matplotlib) (2.9.0.post0)\n",
      "Requirement already satisfied: six>=1.5 in c:\\users\\klipm\\anaconda3\\lib\\site-packages (from python-dateutil>=2.7->matplotlib) (1.16.0)\n"
     ]
    }
   ],
   "source": [
    "!pip install pandas\n",
    "!pip install matplotlib\n",
    "\n",
    "import pandas as pd\n",
    "import matplotlib.pyplot as plt"
   ]
  },
  {
   "cell_type": "markdown",
   "metadata": {},
   "source": [
    "#### Step 1: Load the dataset\n"
   ]
  },
  {
   "cell_type": "code",
   "execution_count": null,
   "metadata": {},
   "outputs": [],
   "source": [
    "file_path = \"https://cf-courses-data.s3.us.cloud-object-storage.appdomain.cloud/n01PQ9pSmiRX6520flujwQ/survey-data.csv\"\n",
    "\n",
    "df = pd.read_csv(file_path)\n"
   ]
  },
  {
   "cell_type": "markdown",
   "metadata": {},
   "source": [
    "\n",
    "### Task 1: Exploring Relationships with Scatter Plots\n",
    "\n"
   ]
  },
  {
   "cell_type": "markdown",
   "metadata": {},
   "source": [
    "#### 1. Scatter Plot for Age vs. Job Satisfaction\n",
    "\n"
   ]
  },
  {
   "cell_type": "markdown",
   "metadata": {},
   "source": [
    "Visualize the relationship between respondents' age (`Age`) and job satisfaction (`JobSatPoints_6`). Use this plot to identify any patterns or trends.\n",
    "\n",
    "\n"
   ]
  },
  {
   "cell_type": "code",
   "execution_count": null,
   "metadata": {},
   "outputs": [],
   "source": [
    "## Write your code here\n",
    "df_clean = df[['Age', 'JobSatPoints_6']].dropna()\n",
    "\n",
    "plt.figure(figsize=(10,6))\n",
    "plt.scatter(df_clean['Age'], df_clean['JobSatPoints_6'], alpha=0.6, color='teal')\n",
    "plt.title('Relationship between Age and Job Satisfaction')\n",
    "plt.xlabel('Age')\n",
    "plt.ylabel('Job Satisfaction Points')\n",
    "plt.grid(True)\n",
    "plt.show()"
   ]
  },
  {
   "cell_type": "markdown",
   "metadata": {},
   "source": [
    "#### 2. Scatter Plot for Compensation vs. Job Satisfaction\n"
   ]
  },
  {
   "cell_type": "markdown",
   "metadata": {},
   "source": [
    "Explore the relationship between yearly compensation (`ConvertedCompYearly`) and job satisfaction (`JobSatPoints_6`) using a scatter plot.\n"
   ]
  },
  {
   "cell_type": "code",
   "execution_count": null,
   "metadata": {},
   "outputs": [],
   "source": [
    "\n",
    "## Write your code here\n",
    "df_clean = df[['ConvertedCompYearly', 'JobSatPoints_6']].dropna()\n",
    "\n",
    "plt.figure(figsize=(10,6))\n",
    "plt.scatter(df_clean['ConvertedCompYearly'], df_clean['JobSatPoints_6'], alpha=0.5, color='green')\n",
    "plt.xscale('log')  # Use log scale to handle high compensation outliers\n",
    "plt.title('Yearly Compensation vs Job Satisfaction')\n",
    "plt.xlabel('Yearly Compensation (log scale)')\n",
    "plt.ylabel('Job Satisfaction Points')\n",
    "plt.grid(True)\n",
    "plt.show()"
   ]
  },
  {
   "cell_type": "markdown",
   "metadata": {},
   "source": [
    "### Task 2: Enhancing Scatter Plots\n"
   ]
  },
  {
   "cell_type": "markdown",
   "metadata": {},
   "source": [
    "#### 1. Scatter Plot with Trend Line for Age vs. Job Satisfaction\n",
    "\n"
   ]
  },
  {
   "cell_type": "markdown",
   "metadata": {},
   "source": [
    "Add a regression line to the scatter plot of Age vs. JobSatPoints_6 to highlight trends in the data.\n"
   ]
  },
  {
   "cell_type": "code",
   "execution_count": null,
   "metadata": {},
   "outputs": [],
   "source": [
    "## Write your code here\n",
    "df_clean = df[['Age', 'JobSatPoints_6']].dropna()\n",
    "\n",
    "# Scatter plot with regression line\n",
    "plt.figure(figsize=(10,6))\n",
    "sns.regplot(x='Age', y='JobSatPoints_6', data=df_clean, scatter_kws={'alpha':0.5, 'color':'blue'}, line_kws={'color':'red'})\n",
    "plt.title('Age vs Job Satisfaction with Regression Line')\n",
    "plt.xlabel('Age')\n",
    "plt.ylabel('Job Satisfaction Points')\n",
    "plt.grid(True)\n",
    "plt.show()"
   ]
  },
  {
   "cell_type": "markdown",
   "metadata": {},
   "source": [
    "#### 2. Scatter Plot for Age vs. Work Experience\n"
   ]
  },
  {
   "cell_type": "markdown",
   "metadata": {},
   "source": [
    "Visualize the relationship between Age (`Age`) and Work Experience (`YearsCodePro`) using a scatter plot.\n"
   ]
  },
  {
   "cell_type": "code",
   "execution_count": null,
   "metadata": {},
   "outputs": [],
   "source": [
    "## Write your code here\n",
    "df_clean = df[['Age', 'YearsCodePro']].dropna()\n",
    "\n",
    "def convert_years(x):\n",
    "    if x == 'Less than 1 year':\n",
    "        return 0.5\n",
    "    elif x == 'More than 50 years':\n",
    "        return 50\n",
    "    else:\n",
    "        try:\n",
    "            return float(x)\n",
    "        except:\n",
    "            return None\n",
    "\n",
    "df_clean['YearsCodePro'] = df_clean['YearsCodePro'].apply(convert_years)\n",
    "df_clean = df_clean.dropna()\n",
    "\n",
    "plt.figure(figsize=(10,6))\n",
    "plt.scatter(df_clean['Age'], df_clean['YearsCodePro'], alpha=0.5, color='orange')\n",
    "plt.title('Age vs Years of Professional Coding Experience')\n",
    "plt.xlabel('Age')\n",
    "plt.ylabel('Years of Professional Coding Experience')\n",
    "plt.grid(True)\n",
    "plt.show()"
   ]
  },
  {
   "cell_type": "markdown",
   "metadata": {},
   "source": [
    "### Task 3: Combining Scatter Plots with Additional Features\n"
   ]
  },
  {
   "cell_type": "markdown",
   "metadata": {},
   "source": [
    "#### 1. Bubble Plot of Compensation vs. Job Satisfaction with Age as Bubble Size\n",
    "\n"
   ]
  },
  {
   "cell_type": "markdown",
   "metadata": {},
   "source": [
    "Create a bubble plot to explore the relationship between yearly compensation (`ConvertedCompYearly`) and job satisfaction (`JobSatPoints_6`), with bubble size representing age.\n"
   ]
  },
  {
   "cell_type": "code",
   "execution_count": null,
   "metadata": {},
   "outputs": [],
   "source": [
    "## Write your code here\n",
    "df_clean = df[['ConvertedCompYearly', 'JobSatPoints_6', 'Age']].dropna()\n",
    "\n",
    "df_clean = df_clean[df_clean['ConvertedCompYearly'] <= df_clean['ConvertedCompYearly'].quantile(0.99)]\n",
    "\n",
    "plt.figure(figsize=(12,8))\n",
    "scatter = plt.scatter(\n",
    "    x=df_clean['ConvertedCompYearly'], \n",
    "    y=df_clean['JobSatPoints_6'], \n",
    "    s=df_clean['Age']*2, \n",
    "    alpha=0.6, \n",
    "    c=df_clean['Age'],    \n",
    "    cmap='viridis',\n",
    "    edgecolors='w',\n",
    "    linewidth=0.5\n",
    ")\n",
    "plt.xscale('log') \n",
    "plt.colorbar(scatter, label='Age')\n",
    "plt.title('Bubble Plot: Yearly Compensation vs Job Satisfaction (Bubble size = Age)')\n",
    "plt.xlabel('Yearly Compensation (log scale)')\n",
    "plt.ylabel('Job Satisfaction Points')\n",
    "plt.grid(True, alpha=0.3)\n",
    "plt.show()"
   ]
  },
  {
   "cell_type": "markdown",
   "metadata": {},
   "source": [
    "#### 2. Scatter Plot for Popular Programming Languages by Job Satisfaction\n"
   ]
  },
  {
   "cell_type": "markdown",
   "metadata": {},
   "source": [
    "Visualize the popularity of programming languages (`LanguageHaveWorkedWith`) against job satisfaction using a scatter plot. Use points to represent satisfaction levels for each language.\n"
   ]
  },
  {
   "cell_type": "code",
   "execution_count": null,
   "metadata": {},
   "outputs": [],
   "source": [
    "## Write your code here\n",
    "df_clean = df[['LanguageHaveWorkedWith', 'JobSatPoints_6']].dropna()\n",
    "\n",
    "# Split languages (semicolon-separated) into separate rows\n",
    "df_expanded = df_clean.assign(LanguageHaveWorkedWith=df_clean['LanguageHaveWorkedWith'].str.split(';')).explode('LanguageHaveWorkedWith')\n",
    "\n",
    "# Optional: trim whitespace\n",
    "df_expanded['LanguageHaveWorkedWith'] = df_expanded['LanguageHaveWorkedWith'].str.strip()\n",
    "\n",
    "# Scatter plot using seaborn\n",
    "plt.figure(figsize=(12,8))\n",
    "sns.stripplot(x='LanguageHaveWorkedWith', y='JobSatPoints_6', data=df_expanded, jitter=True, alpha=0.6, color='blue')\n",
    "plt.xticks(rotation=90)\n",
    "plt.title('Programming Languages vs Job Satisfaction')\n",
    "plt.xlabel('Programming Language')\n",
    "plt.ylabel('Job Satisfaction Points')\n",
    "plt.grid(True, alpha=0.3)\n",
    "plt.show()"
   ]
  },
  {
   "cell_type": "markdown",
   "metadata": {},
   "source": [
    "### Task 4: Scatter Plot Comparisons Across Groups\n"
   ]
  },
  {
   "cell_type": "markdown",
   "metadata": {},
   "source": [
    "#### 1. Scatter Plot for Compensation vs. Job Satisfaction by Employment Type\n"
   ]
  },
  {
   "cell_type": "markdown",
   "metadata": {},
   "source": [
    "Visualize the relationship between yearly compensation (`ConvertedCompYearly`) and job satisfaction (`JobSatPoints_6`), categorized by employment type (`Employment`). Use color coding or markers to differentiate between employment types.\n"
   ]
  },
  {
   "cell_type": "code",
   "execution_count": null,
   "metadata": {},
   "outputs": [],
   "source": [
    "## Write your code here\n",
    "df_clean = df[['ConvertedCompYearly', 'JobSatPoints_6', 'Employment']].dropna()\n",
    "\n",
    "# Optional: remove extreme compensation outliers for better visualization\n",
    "df_clean = df_clean[df_clean['ConvertedCompYearly'] <= df_clean['ConvertedCompYearly'].quantile(0.99)]\n",
    "\n",
    "# Scatter plot with color coding by Employment type\n",
    "plt.figure(figsize=(12,8))\n",
    "sns.scatterplot(\n",
    "    x='ConvertedCompYearly', \n",
    "    y='JobSatPoints_6', \n",
    "    hue='Employment', \n",
    "    data=df_clean, \n",
    "    alpha=0.6,\n",
    "    palette='Set2'\n",
    ")\n",
    "plt.xscale('log')  # Log scale for compensation\n",
    "plt.title('Yearly Compensation vs Job Satisfaction by Employment Type')\n",
    "plt.xlabel('Yearly Compensation (log scale)')\n",
    "plt.ylabel('Job Satisfaction Points')\n",
    "plt.legend(title='Employment Type', bbox_to_anchor=(1.05, 1), loc='upper left')\n",
    "plt.grid(True, alpha=0.3)\n",
    "plt.show()"
   ]
  },
  {
   "cell_type": "markdown",
   "metadata": {},
   "source": [
    "#### 2. Scatter Plot for Work Experience vs. Age Group by Country\n"
   ]
  },
  {
   "cell_type": "markdown",
   "metadata": {},
   "source": [
    "Compare work experience (`YearsCodePro`) across different age groups (`Age`) and countries (`Country`). Use colors to represent different countries and markers for age groups.\n"
   ]
  },
  {
   "cell_type": "code",
   "execution_count": null,
   "metadata": {},
   "outputs": [],
   "source": [
    "## Write your code here\n",
    "df = df[['Age', 'YearsCodePro', 'Country']].dropna()\n",
    "\n",
    "# YearsCodePro ni sonli qiymatga o‘tkazish\n",
    "def convert_years(x):\n",
    "    if x == 'Less than 1 year':\n",
    "        return 0.5\n",
    "    elif x == 'More than 50 years':\n",
    "        return 50\n",
    "    else:\n",
    "        try:\n",
    "            return float(x)\n",
    "        except:\n",
    "            return None\n",
    "\n",
    "df['YearsCodePro'] = df['YearsCodePro'].apply(convert_years)\n",
    "df = df.dropna()\n",
    "\n",
    "# Faqat mashhur 5 mamlakatni tanlaymiz\n",
    "top_countries = ['United States', 'India', 'Germany', 'United Kingdom', 'Canada']\n",
    "df = df[df['Country'].isin(top_countries)]\n",
    "\n",
    "# Scatter plot\n",
    "plt.figure(figsize=(10,6))\n",
    "for country in top_countries:\n",
    "    subset = df[df['Country']==country]\n",
    "    plt.scatter(subset['Age'], subset['YearsCodePro'], alpha=0.5, label=country)\n",
    "\n",
    "plt.xlabel('Age')\n",
    "plt.ylabel('Years of Professional Coding Experience')\n",
    "plt.title('Work Experience by Age and Country')\n",
    "plt.legend()\n",
    "plt.grid(True, alpha=0.3)\n",
    "plt.show()"
   ]
  },
  {
   "cell_type": "markdown",
   "metadata": {},
   "source": [
    "### Final Step: Review\n"
   ]
  },
  {
   "cell_type": "markdown",
   "metadata": {},
   "source": [
    "With these scatter plots, you will have analyzed data relationships across multiple dimensions, including compensation, job satisfaction, employment types, and demographics, to uncover meaningful trends in the developer community.\n"
   ]
  },
  {
   "cell_type": "markdown",
   "metadata": {},
   "source": [
    "### Summary\n"
   ]
  },
  {
   "cell_type": "markdown",
   "metadata": {},
   "source": [
    "After completing this lab, you will be able to:\n",
    "- Analyze how numerical variables relate across specific groups, such as employment types and countries.\n",
    "- Use scatter plots effectively to represent multiple variables with color, size, and markers.\n",
    "- Gain insights into compensation, satisfaction, and demographic trends using advanced scatter plot techniques.\n"
   ]
  },
  {
   "cell_type": "markdown",
   "metadata": {},
   "source": [
    "## Authors:\n",
    "Ayushi Jain\n"
   ]
  },
  {
   "cell_type": "markdown",
   "metadata": {},
   "source": [
    "### Other Contributors:\n",
    "- Rav Ahuja\n",
    "- Lakshmi Holla\n",
    "- Malika\n"
   ]
  },
  {
   "cell_type": "markdown",
   "metadata": {},
   "source": [
    "<!--## Change Log\n",
    "|Date (YYYY-MM-DD)|Version|Changed By|Change Description|\n",
    "|-|-|-|-|               \n",
    "|2024-10-07|1.2|Madhusudan Moole|Reviewed and updated lab|                                                                                      \n",
    "|2024-10-06|1.0|Raghul Ramesh|Created lab|-->\n"
   ]
  },
  {
   "cell_type": "markdown",
   "metadata": {},
   "source": [
    "Copyright © IBM Corporation. All rights reserved.\n"
   ]
  }
 ],
 "metadata": {
  "kernelspec": {
   "display_name": "Python [conda env:base] *",
   "language": "python",
   "name": "conda-base-py"
  },
  "language_info": {
   "codemirror_mode": {
    "name": "ipython",
    "version": 3
   },
   "file_extension": ".py",
   "mimetype": "text/x-python",
   "name": "python",
   "nbconvert_exporter": "python",
   "pygments_lexer": "ipython3",
   "version": "3.12.7"
  },
  "prev_pub_hash": "66d7b5a86eafaad5bc5b086b18f3ed2cd91a85a713a9db274c4f99945b92f954"
 },
 "nbformat": 4,
 "nbformat_minor": 4
}
